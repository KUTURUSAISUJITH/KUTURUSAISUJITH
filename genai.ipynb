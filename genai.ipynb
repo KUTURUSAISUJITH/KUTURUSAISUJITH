{
  "nbformat": 4,
  "nbformat_minor": 0,
  "metadata": {
    "colab": {
      "provenance": [],
      "authorship_tag": "ABX9TyMOWnO1toUWanZLIiV3Zec3",
      "include_colab_link": true
    },
    "kernelspec": {
      "name": "python3",
      "display_name": "Python 3"
    },
    "language_info": {
      "name": "python"
    }
  },
  "cells": [
    {
      "cell_type": "markdown",
      "metadata": {
        "id": "view-in-github",
        "colab_type": "text"
      },
      "source": [
        "<a href=\"https://colab.research.google.com/github/KUTURUSAISUJITH/KUTURUSAISUJITH/blob/main/genai.ipynb\" target=\"_parent\"><img src=\"https://colab.research.google.com/assets/colab-badge.svg\" alt=\"Open In Colab\"/></a>"
      ]
    },
    {
      "cell_type": "code",
      "source": [
        "from openai import OpenAI"
      ],
      "metadata": {
        "id": "GroO8wlfnwu-"
      },
      "execution_count": 21,
      "outputs": []
    },
    {
      "cell_type": "code",
      "source": [
        "from google.colab import userdata\n",
        "geminikey=userdata.get('geminikey')"
      ],
      "metadata": {
        "id": "DjeGOqhJuH6s"
      },
      "execution_count": 25,
      "outputs": []
    },
    {
      "cell_type": "code",
      "source": [
        "from google import generativeai as genai"
      ],
      "metadata": {
        "id": "9-i6cS8J05RK"
      },
      "execution_count": 26,
      "outputs": []
    },
    {
      "cell_type": "code",
      "source": [
        "genai.configure(api_key=geminikey)"
      ],
      "metadata": {
        "id": "9LkC_m_z1EyK"
      },
      "execution_count": 27,
      "outputs": []
    },
    {
      "cell_type": "code",
      "source": [
        "gemini_content_model=genai.GenerativeModel(model_name='gemini-pro')"
      ],
      "metadata": {
        "id": "uizZVBnC1SsX"
      },
      "execution_count": 30,
      "outputs": []
    },
    {
      "cell_type": "code",
      "source": [
        "gemini_content_model.generate_content(\"please say best movies in telugu\").text"
      ],
      "metadata": {
        "colab": {
          "base_uri": "https://localhost:8080/",
          "height": 140
        },
        "id": "o7ou7ya513CS",
        "outputId": "e8ee04bc-380b-49f1-9192-db29dd88685e"
      },
      "execution_count": 32,
      "outputs": [
        {
          "output_type": "execute_result",
          "data": {
            "text/plain": [
              "'**Classic Telugu Cinema**\\n\\n* **Mayabazar (1957)** - An epic mythological fantasy with stunning visuals and unforgettable characters.\\n* **Alajadi (1977)** - A comedy-drama that showcases the talents of NTR and Rajinikanth.\\n* **Sagara Sangamam (1983)** - A romantic musical with beautiful melodies and picturesque locations.\\n* **Sri Venkateswara Mahatyam (1960)** - A devotional film that narrates the legend of Lord Venkateswara.\\n* **Patala Bhairavi (1951)** - An action-adventure film featuring legendary actress Anjali Devi.\\n\\n**Modern Telugu Cinema**\\n\\n* **Baahubali: The Beginning (2015)** - A historical epic with breathtaking special effects and a compelling story.\\n* **Baahubali 2: The Conclusion (2017)** - The highly anticipated sequel that delivers an epic climax and a satisfying ending.\\n* **Rangasthalam (2018)** - A rural drama with nuanced performances and a gripping plot.\\n* **Arjun Reddy (2017)** - A romantic drama that explores themes of love, loss, and addiction.\\n* **Ala Vaikunthapurramuloo (2020)** - A family entertainer with a blend of comedy, drama, and action.\\n\\n**Cult Telugu Cinema**\\n\\n* **Shiva (1989)** - A cult classic action film starring Nagarjuna and Amala.\\n* **Geethanjali (1989)** - A supernatural thriller that has become a legend in Telugu cinema.\\n* **Prema Desam (1996)** - A romantic drama that captures the essence of young love and heartbreak.\\n* **Nagarjuna (1990)** - A biographical film about the life of King Nagarjuna, founder of the Mahayana Buddhism.\\n* **Samarasimha Reddy (1999)** - A revenge drama that became a cult favorite for its action sequences and catchy songs.\\n\\n**Art House Telugu Cinema**\\n\\n* **Eega (2012)** - An experimental animated film that follows the journey of a man reborn as a fly to avenge his murder.\\n* **Kshanam (2016)** - A neo-noir thriller that explores themes of memory and identity.\\n* **Agent Sai Srinivasa Athreya (2019)** - A dark comedy that follows a local detective as he investigates a series of mysterious deaths.\\n* **Mallesham (2019)** - A biographical drama that tells the true story of an Indian farmer who invented a low-cost artificial limb.\\n* **Sita Ramam (2022)** - A romantic war drama that showcases the power of love and sacrifice.'"
            ],
            "application/vnd.google.colaboratory.intrinsic+json": {
              "type": "string"
            }
          },
          "metadata": {},
          "execution_count": 32
        }
      ]
    },
    {
      "cell_type": "code",
      "source": [
        "gemini_content_model.generate_content(\"please predict who wins tomorrow ipl matchand name the teams and date=March 26, 2024\").text"
      ],
      "metadata": {
        "colab": {
          "base_uri": "https://localhost:8080/",
          "height": 53
        },
        "id": "or8Qwi6_2mqH",
        "outputId": "0acad083-df37-4921-cd61-aeabee86ab89"
      },
      "execution_count": 35,
      "outputs": [
        {
          "output_type": "execute_result",
          "data": {
            "text/plain": [
              "'I apologize, but I cannot provide predictions for future IPL matches as my knowledge cutoff is April 2023. For the most up-to-date information on IPL matches scheduled for March 26, 2024, please visit the official IPL website or follow reputable sports news sources.'"
            ],
            "application/vnd.google.colaboratory.intrinsic+json": {
              "type": "string"
            }
          },
          "metadata": {},
          "execution_count": 35
        }
      ]
    },
    {
      "cell_type": "code",
      "source": [
        "gemini_image_description=genai.GenerativeModel(model_name='gemini-pro-vision')"
      ],
      "metadata": {
        "id": "J0HwNhTU3GRb"
      },
      "execution_count": 37,
      "outputs": []
    },
    {
      "cell_type": "code",
      "source": [
        "pip install pillow"
      ],
      "metadata": {
        "colab": {
          "base_uri": "https://localhost:8080/"
        },
        "id": "gdKwqdot3tq4",
        "outputId": "177e5744-757e-46e5-9f8b-d1c15bc5b676"
      },
      "execution_count": 41,
      "outputs": [
        {
          "output_type": "stream",
          "name": "stdout",
          "text": [
            "Requirement already satisfied: pillow in /usr/local/lib/python3.10/dist-packages (9.4.0)\n"
          ]
        }
      ]
    },
    {
      "cell_type": "code",
      "source": [
        "import PIL.Image"
      ],
      "metadata": {
        "id": "ZMKoYSRZ3ift"
      },
      "execution_count": 43,
      "outputs": []
    },
    {
      "cell_type": "code",
      "source": [
        "image=PIL.Image.open(\"/content/Screenshot (159).png\")"
      ],
      "metadata": {
        "id": "psaYaPKO4adT"
      },
      "execution_count": 44,
      "outputs": []
    },
    {
      "cell_type": "code",
      "source": [
        "gemini_image_description.generate_content([\"describe the image in short note\",image]).text"
      ],
      "metadata": {
        "colab": {
          "base_uri": "https://localhost:8080/",
          "height": 53
        },
        "id": "KssZjKwT4m63",
        "outputId": "11ee44e9-623b-46b8-fb51-179be3da179d"
      },
      "execution_count": 46,
      "outputs": [
        {
          "output_type": "execute_result",
          "data": {
            "text/plain": [
              "' The image shows a large crowd of people gathered around a temple. The temple is surrounded by a fence and there are several people on the fence. The ground is covered in offerings that have been thrown by the devotees.'"
            ],
            "application/vnd.google.colaboratory.intrinsic+json": {
              "type": "string"
            }
          },
          "metadata": {},
          "execution_count": 46
        }
      ]
    },
    {
      "cell_type": "code",
      "source": [
        "image2=PIL.Image.open(\"/content/Screenshot (140).png\")"
      ],
      "metadata": {
        "id": "3DKaLNFT5PUr"
      },
      "execution_count": 48,
      "outputs": []
    },
    {
      "cell_type": "code",
      "source": [
        "gemini_image_description.generate_content([\"describe the image in short note\",image2]).text"
      ],
      "metadata": {
        "colab": {
          "base_uri": "https://localhost:8080/",
          "height": 53
        },
        "id": "pcT2cAH95N4S",
        "outputId": "7038d344-0172-4b30-eaef-12de6b7c1a0a"
      },
      "execution_count": 49,
      "outputs": [
        {
          "output_type": "execute_result",
          "data": {
            "text/plain": [
              "' The image shows a group of identical apartment buildings. The buildings are blue and have many windows. There are cars parked in front of the buildings.'"
            ],
            "application/vnd.google.colaboratory.intrinsic+json": {
              "type": "string"
            }
          },
          "metadata": {},
          "execution_count": 49
        }
      ]
    }
  ]
}