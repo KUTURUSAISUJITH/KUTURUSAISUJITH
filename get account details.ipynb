{
  "nbformat": 4,
  "nbformat_minor": 0,
  "metadata": {
    "colab": {
      "provenance": [],
      "authorship_tag": "ABX9TyPcjqmwtF6ArPskt73xV5r5",
      "include_colab_link": true
    },
    "kernelspec": {
      "name": "python3",
      "display_name": "Python 3"
    },
    "language_info": {
      "name": "python"
    }
  },
  "cells": [
    {
      "cell_type": "markdown",
      "metadata": {
        "id": "view-in-github",
        "colab_type": "text"
      },
      "source": [
        "<a href=\"https://colab.research.google.com/github/KUTURUSAISUJITH/KUTURUSAISUJITH/blob/main/get%20account%20details.ipynb\" target=\"_parent\"><img src=\"https://colab.research.google.com/assets/colab-badge.svg\" alt=\"Open In Colab\"/></a>"
      ]
    },
    {
      "cell_type": "code",
      "execution_count": 1,
      "metadata": {
        "id": "OGpWUTNlSr8N"
      },
      "outputs": [],
      "source": [
        "import random\n"
      ]
    },
    {
      "cell_type": "code",
      "source": [
        "class AxisBank:\n",
        "  def __init__(self,name,age):\n",
        "    self.name=name\n",
        "    self.age=age\n",
        "    self.acno=random.randint(100,10000)\n",
        "    self.currentbalance=1000\n",
        "    self.password=1234\n",
        "\n",
        "  def __str__(self):\n",
        "    return f'a/c holder name : {self.name},a/c no:{self.acno}'\n",
        "  def getacno (self):\n",
        "    return self.acno\n",
        "  def getcurrentbalance(self):\n",
        "    return self.currentbalance\n",
        "  def setcreditbalance(self,amount):\n",
        "    self.currentbalance=self.currentbalance+amount\n",
        "  def setdebitbalance(self,amount):\n",
        "    self.currentbalance=self.currentbalance-amount\n",
        "\n"
      ],
      "metadata": {
        "id": "5E8lJjzpTPRx"
      },
      "execution_count": 2,
      "outputs": []
    },
    {
      "cell_type": "code",
      "source": [
        "x=AxisBank('keshava',40)\n",
        "print(x)"
      ],
      "metadata": {
        "colab": {
          "base_uri": "https://localhost:8080/"
        },
        "id": "2d_s27J4TTPF",
        "outputId": "f993c693-c10c-4403-f271-c4bb3d371ec4"
      },
      "execution_count": 3,
      "outputs": [
        {
          "output_type": "stream",
          "name": "stdout",
          "text": [
            "a/c holder name : keshava,a/c no:3333\n"
          ]
        }
      ]
    },
    {
      "cell_type": "code",
      "source": [
        "x.getcurrentbalance()"
      ],
      "metadata": {
        "colab": {
          "base_uri": "https://localhost:8080/"
        },
        "id": "b3vXOeAQTUp8",
        "outputId": "fadb6bd9-784d-4ea6-83e6-b90dff123416"
      },
      "execution_count": 4,
      "outputs": [
        {
          "output_type": "execute_result",
          "data": {
            "text/plain": [
              "1000"
            ]
          },
          "metadata": {},
          "execution_count": 4
        }
      ]
    },
    {
      "cell_type": "code",
      "source": [
        "x.setcreditbalance(5000)\n",
        "x.getcurrentbalance()"
      ],
      "metadata": {
        "colab": {
          "base_uri": "https://localhost:8080/"
        },
        "id": "uUFn0nbITX81",
        "outputId": "52e211df-071e-409b-bfc5-f999534d8cb1"
      },
      "execution_count": 5,
      "outputs": [
        {
          "output_type": "execute_result",
          "data": {
            "text/plain": [
              "6000"
            ]
          },
          "metadata": {},
          "execution_count": 5
        }
      ]
    },
    {
      "cell_type": "code",
      "source": [
        "x.setdebitbalance(9000)\n",
        "x.getcurrentbalance()"
      ],
      "metadata": {
        "colab": {
          "base_uri": "https://localhost:8080/"
        },
        "id": "dJJMzQQETcQX",
        "outputId": "69442e4a-2d63-40e5-bcbc-8c1ad8991f5e"
      },
      "execution_count": 6,
      "outputs": [
        {
          "output_type": "execute_result",
          "data": {
            "text/plain": [
              "-3000"
            ]
          },
          "metadata": {},
          "execution_count": 6
        }
      ]
    }
  ]
}