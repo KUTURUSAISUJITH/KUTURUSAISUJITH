{
  "nbformat": 4,
  "nbformat_minor": 0,
  "metadata": {
    "colab": {
      "provenance": [],
      "authorship_tag": "ABX9TyNHvjulzTahSJfAT8Yh1iUP",
      "include_colab_link": true
    },
    "kernelspec": {
      "name": "python3",
      "display_name": "Python 3"
    },
    "language_info": {
      "name": "python"
    }
  },
  "cells": [
    {
      "cell_type": "markdown",
      "metadata": {
        "id": "view-in-github",
        "colab_type": "text"
      },
      "source": [
        "<a href=\"https://colab.research.google.com/github/KUTURUSAISUJITH/KUTURUSAISUJITH/blob/main/mlprojectUSING%20VARIOUS%20REGRESSION%20METHODS.ipynb\" target=\"_parent\"><img src=\"https://colab.research.google.com/assets/colab-badge.svg\" alt=\"Open In Colab\"/></a>"
      ]
    },
    {
      "cell_type": "code",
      "execution_count": 1,
      "metadata": {
        "id": "Y9a7vo1dP97E"
      },
      "outputs": [],
      "source": [
        "#import the necessary libraries\n",
        "import pandas as pd\n",
        "import numpy as np\n",
        "import seaborn as sns\n",
        "import matplotlib.pyplot as plt"
      ]
    },
    {
      "cell_type": "code",
      "source": [
        "# Read the file\n",
        "df=pd.read_excel(\"/content/Health_insurance_cost.xlsx\")"
      ],
      "metadata": {
        "id": "9-1FPF1BQSZJ"
      },
      "execution_count": 2,
      "outputs": []
    },
    {
      "cell_type": "code",
      "source": [
        "#check the data of first five rows\n",
        "df.head()"
      ],
      "metadata": {
        "id": "ea0e42jeS_xi"
      },
      "execution_count": 25,
      "outputs": []
    },
    {
      "cell_type": "code",
      "source": [
        "# see the name of the columns\n",
        "df.columns"
      ],
      "metadata": {
        "colab": {
          "base_uri": "https://localhost:8080/"
        },
        "id": "SBdkB_67TSrI",
        "outputId": "efd0c415-d30c-4434-e699-0d2d4efac9d7"
      },
      "execution_count": 5,
      "outputs": [
        {
          "output_type": "execute_result",
          "data": {
            "text/plain": [
              "Index(['age', 'gender', 'BMI', 'Children', 'smoking_status', 'location',\n",
              "       'health_insurance_price'],\n",
              "      dtype='object')"
            ]
          },
          "metadata": {},
          "execution_count": 5
        }
      ]
    },
    {
      "cell_type": "code",
      "source": [
        "#check fo the null values\n",
        "df.isnull().sum()"
      ],
      "metadata": {
        "colab": {
          "base_uri": "https://localhost:8080/"
        },
        "id": "9v4ixJRnTW9Y",
        "outputId": "cb679cd0-7d52-485a-d489-38cf9c142360"
      },
      "execution_count": 27,
      "outputs": [
        {
          "output_type": "execute_result",
          "data": {
            "text/plain": [
              "age                       0\n",
              "BMI                       0\n",
              "Children                  0\n",
              "health_insurance_price    0\n",
              "gender_female             0\n",
              "gender_male               0\n",
              "smoking_status_no         0\n",
              "smoking_status_yes        0\n",
              "location_northeast        0\n",
              "location_northwest        0\n",
              "location_southeast        0\n",
              "location_southwest        0\n",
              "dtype: int64"
            ]
          },
          "metadata": {},
          "execution_count": 27
        }
      ]
    },
    {
      "cell_type": "code",
      "source": [
        "#replace the null values with mean median or mode (mean=no outliers),(median=outliers),(mode=category columns)\n",
        "df[\"age\"]=df[\"age\"].fillna(df[\"age\"].mean())\n",
        "df[\"BMI\"]=df[\"BMI\"].fillna(df[\"BMI\"].mean())\n",
        "df[\"health_insurance_price\"]=df[\"health_insurance_price\"].fillna(df[\"health_insurance_price\"].mean())"
      ],
      "metadata": {
        "id": "KRv5msPHTgSA"
      },
      "execution_count": 7,
      "outputs": []
    },
    {
      "cell_type": "code",
      "source": [
        "df.dtypes"
      ],
      "metadata": {
        "colab": {
          "base_uri": "https://localhost:8080/"
        },
        "id": "085d2WlRT5Dj",
        "outputId": "fb4f20ca-2fbe-42cc-fd17-9f0c3630af60"
      },
      "execution_count": 9,
      "outputs": [
        {
          "output_type": "execute_result",
          "data": {
            "text/plain": [
              "age                       float64\n",
              "gender                     object\n",
              "BMI                       float64\n",
              "Children                    int64\n",
              "smoking_status             object\n",
              "location                   object\n",
              "health_insurance_price    float64\n",
              "dtype: object"
            ]
          },
          "metadata": {},
          "execution_count": 9
        }
      ]
    },
    {
      "cell_type": "code",
      "source": [
        "# convert the categorical columns to numerical\n",
        "df=pd.get_dummies(df,columns=[\"gender\",\"smoking_status\",\"location\"])"
      ],
      "metadata": {
        "id": "xTtkSljjUBdM"
      },
      "execution_count": 10,
      "outputs": []
    },
    {
      "cell_type": "code",
      "source": [
        "# divide the data into feature and target varaiable\n",
        "x=df.drop(columns=\"health_insurance_price\")\n",
        "y=df[\"health_insurance_price\"]"
      ],
      "metadata": {
        "id": "7tICmJKUUYJ2"
      },
      "execution_count": 11,
      "outputs": []
    },
    {
      "cell_type": "code",
      "source": [
        "from sklearn.model_selection import train_test_split\n",
        "# split the dat into training and testing\n",
        "x_train,x_test,y_train,y_test=train_test_split(x,y,test_size=0.2,random_state=42)\n",
        "from sklearn.linear_model import LinearRegression\n",
        "# intialize and train the respective regressor\n",
        "lr=LinearRegression()\n",
        "lr.fit(x_train,y_train)\n",
        "# make prediction on the test values\n",
        "ycap=lr.predict(x_test)\n",
        "from sklearn.metrics import mean_absolute_error,mean_squared_error,r2_score\n",
        "#evaluate the model_performance\n",
        "print('Resullts from the linear regression')\n",
        "print('mean_absolute_error:',mean_absolute_error(y_test,ycap))\n",
        "print('mean_squared_error:',mean_squared_error(y_test,ycap))\n",
        "print('r2_score:',r2_score(y_test,ycap))"
      ],
      "metadata": {
        "colab": {
          "base_uri": "https://localhost:8080/"
        },
        "id": "reo3ufBrUhuo",
        "outputId": "503208ce-9e84-4191-b0af-a38ddc8ed088"
      },
      "execution_count": 15,
      "outputs": [
        {
          "output_type": "stream",
          "name": "stdout",
          "text": [
            "Resullts from the linear regression\n",
            "mean_absolute_error: 4217.810641512525\n",
            "mean_squared_error: 34627403.784778\n",
            "r2_score: 0.7765724706587462\n"
          ]
        }
      ]
    },
    {
      "cell_type": "code",
      "source": [
        "from sklearn.model_selection import train_test_split\n",
        "# split the dat into training and testing\n",
        "x_train,x_test,y_train,y_test=train_test_split(x,y,test_size=0.2,random_state=42)\n",
        "from sklearn.tree import DecisionTreeRegressor\n",
        "# intialize and train the respective regressor\n",
        "dtr=DecisionTreeRegressor()\n",
        "dtr.fit(x_train,y_train)\n",
        "# make prediction on the test values\n",
        "lorycap=dtr.predict(x_test)\n",
        "from sklearn.metrics import mean_absolute_error,mean_squared_error,r2_score\n",
        "#evaluate the model_performance\n",
        "print('Resullts from the DecisionTreeRegressor')\n",
        "print('mean_absolute_error:',mean_absolute_error(y_test,lorycap))\n",
        "print('mean_squared_error:',mean_squared_error(y_test,lorycap))\n",
        "print('r2_score:',r2_score(y_test,lorycap))"
      ],
      "metadata": {
        "colab": {
          "base_uri": "https://localhost:8080/"
        },
        "id": "44dISP1XW_kr",
        "outputId": "5bc19350-7beb-49d6-e662-6ec04e2d928c"
      },
      "execution_count": 19,
      "outputs": [
        {
          "output_type": "stream",
          "name": "stdout",
          "text": [
            "Resullts from the DecisionTreeRegressor\n",
            "mean_absolute_error: 3170.9902210597015\n",
            "mean_squared_error: 42319220.64688628\n",
            "r2_score: 0.7269423092892207\n"
          ]
        }
      ]
    },
    {
      "cell_type": "code",
      "source": [
        "from sklearn.model_selection import train_test_split\n",
        "# split the dat into training and testing\n",
        "x_train,x_test,y_train,y_test=train_test_split(x,y,test_size=0.2,random_state=42)\n",
        "from sklearn.ensemble import RandomForestRegressor\n",
        "# intialize and train the respective regressor\n",
        "rtr=DecisionTreeRegressor()\n",
        "rtr.fit(x_train,y_train)\n",
        "# make prediction on the test values\n",
        "treecap=rtr.predict(x_test)\n",
        "from sklearn.metrics import mean_absolute_error,mean_squared_error,r2_score\n",
        "#evaluate the model_performance\n",
        "print('Resullts from the random forest ')\n",
        "print('mean_absolute_error:',mean_absolute_error(y_test,treecap))\n",
        "print('mean_squared_error:',mean_squared_error(y_test,treecap))\n",
        "print('r2_score:',r2_score(y_test,treecap))"
      ],
      "metadata": {
        "colab": {
          "base_uri": "https://localhost:8080/"
        },
        "id": "TCj2tU-ZXumq",
        "outputId": "e97141a1-7c4e-49e0-8a84-e46142ba9880"
      },
      "execution_count": 21,
      "outputs": [
        {
          "output_type": "stream",
          "name": "stdout",
          "text": [
            "Resullts from the random forest \n",
            "mean_absolute_error: 3379.639522104478\n",
            "mean_squared_error: 46731629.42639856\n",
            "r2_score: 0.6984719798883355\n"
          ]
        }
      ]
    },
    {
      "cell_type": "code",
      "source": [
        "from sklearn.model_selection import train_test_split\n",
        "# split the dat into training and testing\n",
        "x_train,x_test,y_train,y_test=train_test_split(x,y,test_size=0.2,random_state=42)\n",
        "from sklearn.neighbors import KNeighborsRegressor\n",
        "# intialize and train the respective regressor\n",
        "ktr=KNeighborsRegressor()\n",
        "ktr.fit(x_train,y_train)\n",
        "# make prediction on the test values\n",
        "cop=ktr.predict(x_test)\n",
        "from sklearn.metrics import mean_absolute_error,mean_squared_error,r2_score\n",
        "#evaluate the model_performance\n",
        "print('Resullts from the knn ')\n",
        "print('mean_absolute_error:',mean_absolute_error(y_test,cop))\n",
        "print('mean_squared_error:',mean_squared_error(y_test,cop))\n",
        "print('r2_score:',r2_score(y_test,cop))"
      ],
      "metadata": {
        "colab": {
          "base_uri": "https://localhost:8080/"
        },
        "id": "amqmYrmFYmN-",
        "outputId": "fe61e597-3e48-4e44-978b-a49118f6a23f"
      },
      "execution_count": 28,
      "outputs": [
        {
          "output_type": "stream",
          "name": "stdout",
          "text": [
            "Resullts from the knn \n",
            "mean_absolute_error: 6760.877865151\n",
            "mean_squared_error: 110665018.00315677\n",
            "r2_score: 0.28595248691962505\n"
          ]
        }
      ]
    },
    {
      "cell_type": "code",
      "source": [
        "from sklearn.model_selection import train_test_split\n",
        "# split the dat into training and testing\n",
        "x_train,x_test,y_train,y_test=train_test_split(x,y,test_size=0.2,random_state=42)\n",
        "from xgboost import XGBRegressor\n",
        "# intialize and train the respective regressor\n",
        "boost=XGBRegressor()\n",
        "boost.fit(x_train,y_train)\n",
        "# make prediction on the test values\n",
        "cup=boost.predict(x_test)\n",
        "from sklearn.metrics import mean_absolute_error,mean_squared_error,r2_score\n",
        "#evaluate the model_performance\n",
        "print('Resullts from the xgbooster ')\n",
        "print('mean_absolute_error:',mean_absolute_error(y_test,cup))\n",
        "print('mean_squared_error:',mean_squared_error(y_test,cup))\n",
        "print('r2_score:',r2_score(y_test,cup))"
      ],
      "metadata": {
        "colab": {
          "base_uri": "https://localhost:8080/"
        },
        "id": "-xc8rP2cbA9n",
        "outputId": "0744b657-6cfb-434b-9418-5a78c9933b90"
      },
      "execution_count": 39,
      "outputs": [
        {
          "output_type": "stream",
          "name": "stdout",
          "text": [
            "Resullts from the xgbooster \n",
            "mean_absolute_error: 2777.9615961277236\n",
            "mean_squared_error: 24397700.334687214\n",
            "r2_score: 0.8425779206183593\n"
          ]
        }
      ]
    }
  ]
}